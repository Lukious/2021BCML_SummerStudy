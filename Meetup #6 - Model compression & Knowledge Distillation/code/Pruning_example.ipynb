{
 "cells": [
  {
   "cell_type": "code",
   "execution_count": 1,
   "id": "vocal-retreat",
   "metadata": {},
   "outputs": [],
   "source": [
    "import tempfile\n",
    "import os\n",
    "\n",
    "import tensorflow as tf\n",
    "import numpy as np\n",
    "\n",
    "from tensorflow import keras\n",
    "\n",
    "%load_ext tensorboard"
   ]
  },
  {
   "cell_type": "code",
   "execution_count": 2,
   "id": "color-chance",
   "metadata": {},
   "outputs": [
    {
     "name": "stdout",
     "output_type": "stream",
     "text": [
      "Epoch 1/4\n",
      "1688/1688 [==============================] - 7s 4ms/step - loss: 0.3057 - accuracy: 0.9135 - val_loss: 0.1303 - val_accuracy: 0.9622\n",
      "Epoch 2/4\n",
      "1688/1688 [==============================] - 7s 4ms/step - loss: 0.1224 - accuracy: 0.9649 - val_loss: 0.0922 - val_accuracy: 0.9742\n",
      "Epoch 3/4\n",
      "1688/1688 [==============================] - 7s 4ms/step - loss: 0.0870 - accuracy: 0.9751 - val_loss: 0.0747 - val_accuracy: 0.9812\n",
      "Epoch 4/4\n",
      "1688/1688 [==============================] - 7s 4ms/step - loss: 0.0708 - accuracy: 0.9794 - val_loss: 0.0625 - val_accuracy: 0.9842\n"
     ]
    },
    {
     "data": {
      "text/plain": [
       "<tensorflow.python.keras.callbacks.History at 0x7f6f4821c7b8>"
      ]
     },
     "execution_count": 2,
     "metadata": {},
     "output_type": "execute_result"
    }
   ],
   "source": [
    "####################################################\n",
    "# 1. 가지 치기 없이 MNIST에 대한 모델을 훈련한다   #\n",
    "####################################################\n",
    "\n",
    "# MNIST 데이터셋 불러오기\n",
    "mnist = keras.datasets.mnist\n",
    "(train_images, train_labels), (test_images, test_labels) = mnist.load_data()\n",
    "\n",
    "# 각 픽셀 값이 0과 1 사이 되도록 이미지를 정규화\n",
    "train_images = train_images / 255.0\n",
    "test_images = test_images / 255.0\n",
    "\n",
    "# 모델 구조 정의\n",
    "model = keras.Sequential([\n",
    "  keras.layers.InputLayer(input_shape=(28, 28)),\n",
    "  keras.layers.Reshape(target_shape=(28, 28, 1)),\n",
    "  keras.layers.Conv2D(filters=12, kernel_size=(3, 3), activation='relu'),\n",
    "  keras.layers.MaxPooling2D(pool_size=(2, 2)),\n",
    "  keras.layers.Flatten(),\n",
    "  keras.layers.Dense(10)\n",
    "])\n",
    "\n",
    "# 컴파일\n",
    "model.compile(optimizer='adam',\n",
    "              loss=tf.keras.losses.SparseCategoricalCrossentropy(from_logits=True),\n",
    "              metrics=['accuracy'])\n",
    "\n",
    "# 모델 학습\n",
    "model.fit(\n",
    "  train_images,\n",
    "  train_labels,\n",
    "  epochs=4,\n",
    "  validation_split=0.1,\n",
    ")"
   ]
  },
  {
   "cell_type": "code",
   "execution_count": 3,
   "id": "sacred-czech",
   "metadata": {},
   "outputs": [
    {
     "name": "stdout",
     "output_type": "stream",
     "text": [
      "Baseline test accuracy: 0.9789999723434448\n",
      "Saved baseline model to: /tmp/tmp1zonukva.h5\n"
     ]
    }
   ],
   "source": [
    "# 학습한 모델의 정확도 저장 ( 기준 정확도로 사용 )\n",
    "_, baseline_model_accuracy = model.evaluate(\n",
    "    test_images, test_labels, verbose=0)\n",
    "\n",
    "print('Baseline test accuracy:', baseline_model_accuracy)\n",
    "\n",
    "# 임시 파일을 생성하고 그 파일에 학습한 모델을 저장한다.\n",
    "# keras_file는 file path\n",
    "_, keras_file = tempfile.mkstemp('.h5')\n",
    "tf.keras.models.save_model(model, keras_file, include_optimizer=False)\n",
    "print('Saved baseline model to:', keras_file)"
   ]
  },
  {
   "cell_type": "code",
   "execution_count": 4,
   "id": "moderate-search",
   "metadata": {},
   "outputs": [
    {
     "name": "stdout",
     "output_type": "stream",
     "text": [
      "WARNING:tensorflow:From /usr/local/lib/python3.6/dist-packages/tensorflow_model_optimization/python/core/sparsity/keras/pruning_wrapper.py:227: Layer.add_variable (from tensorflow.python.keras.engine.base_layer) is deprecated and will be removed in a future version.\n",
      "Instructions for updating:\n",
      "Please use `layer.add_weight` method instead.\n",
      "Model: \"sequential\"\n",
      "_________________________________________________________________\n",
      "Layer (type)                 Output Shape              Param #   \n",
      "=================================================================\n",
      "prune_low_magnitude_reshape  (None, 28, 28, 1)         1         \n",
      "_________________________________________________________________\n",
      "prune_low_magnitude_conv2d ( (None, 26, 26, 12)        230       \n",
      "_________________________________________________________________\n",
      "prune_low_magnitude_max_pool (None, 13, 13, 12)        1         \n",
      "_________________________________________________________________\n",
      "prune_low_magnitude_flatten  (None, 2028)              1         \n",
      "_________________________________________________________________\n",
      "prune_low_magnitude_dense (P (None, 10)                40572     \n",
      "=================================================================\n",
      "Total params: 40,805\n",
      "Trainable params: 20,410\n",
      "Non-trainable params: 20,395\n",
      "_________________________________________________________________\n"
     ]
    }
   ],
   "source": [
    "#########################################################\n",
    "# 2. 가지 치기를 적용하여 사전 학습된 모델을 미세 조정  #\n",
    "#########################################################\n",
    "# 50%의 희소성(가중치 50%를 제로화)으로 모델을 시작하고 #\n",
    "# 80%의 희소성으로 끝납니다.                            #\n",
    "#########################################################\n",
    "\n",
    "import tensorflow_model_optimization as tfmot\n",
    "\n",
    "# 가지 치기에 필요한 API\n",
    "# 사용자 정의 레이어를 잘라내거나, 내장 레이어의 일부를 수정하여 잘라냄\n",
    "prune_low_magnitude = tfmot.sparsity.keras.prune_low_magnitude\n",
    "\n",
    "# 2epoch 후 마치기 위해 end step 계산\n",
    "batch_size = 128\n",
    "epochs = 2\n",
    "validation_split = 0.1 # 데이터셋의 10%가 validation set로 사용됨\n",
    "\n",
    "num_images = train_images.shape[0] * (1 - validation_split)\n",
    "end_step = np.ceil(num_images / batch_size).astype(np.int32) * epochs\n",
    "\n",
    "# 가지치기 할 모델 정의\n",
    "# 희소성 50% -> 80%\n",
    "pruning_params = {\n",
    "      'pruning_schedule': tfmot.sparsity.keras.PolynomialDecay(initial_sparsity=0.50,\n",
    "                                                               final_sparsity=0.80,\n",
    "                                                               begin_step=0,\n",
    "                                                               end_step=end_step)\n",
    "}\n",
    "\n",
    "# pruen_low_magnitude API를 사용하여 pruning\n",
    "model_for_pruning = prune_low_magnitude(model, **pruning_params)\n",
    "\n",
    "# `prune_low_magnitude` 재컴파일.\n",
    "model_for_pruning.compile(optimizer='adam',\n",
    "              loss=tf.keras.losses.SparseCategoricalCrossentropy(from_logits=True),\n",
    "              metrics=['accuracy'])\n",
    "\n",
    "model_for_pruning.summary()"
   ]
  },
  {
   "cell_type": "code",
   "execution_count": 5,
   "id": "beneficial-orchestra",
   "metadata": {},
   "outputs": [
    {
     "name": "stdout",
     "output_type": "stream",
     "text": [
      "Epoch 1/2\n",
      "422/422 [==============================] - 2s 4ms/step - loss: 0.0973 - accuracy: 0.9744 - val_loss: 0.1071 - val_accuracy: 0.9723\n",
      "Epoch 2/2\n",
      "422/422 [==============================] - 2s 4ms/step - loss: 0.1154 - accuracy: 0.9687 - val_loss: 0.0898 - val_accuracy: 0.9772\n"
     ]
    },
    {
     "data": {
      "text/plain": [
       "<tensorflow.python.keras.callbacks.History at 0x7f6f20620400>"
      ]
     },
     "execution_count": 5,
     "metadata": {},
     "output_type": "execute_result"
    }
   ],
   "source": [
    "# 가지치기 적용 모델 학습 및 평가\n",
    "\n",
    "logdir = tempfile.mkdtemp()\n",
    "\n",
    "# 학습 과정 중 콜백을 사용해서 모델 최적 단계와 진행률, 가지치기 요악을 확인\n",
    "callbacks = [\n",
    "  tfmot.sparsity.keras.UpdatePruningStep(), # 가지치기 wrapper를 최적기 단계로 업데이트\n",
    "  tfmot.sparsity.keras.PruningSummaries(log_dir=logdir), # 진행률 추적 및 디버깅을 위한 로그를 제공\n",
    "]\n",
    "\n",
    "model_for_pruning.fit(train_images, train_labels,\n",
    "                  batch_size=batch_size, epochs=epochs, validation_split=validation_split,\n",
    "                  callbacks=callbacks)"
   ]
  },
  {
   "cell_type": "code",
   "execution_count": 6,
   "id": "laughing-negative",
   "metadata": {},
   "outputs": [
    {
     "name": "stdout",
     "output_type": "stream",
     "text": [
      "Baseline test accuracy: 0.9789999723434448\n",
      "Pruned test accuracy: 0.9708999991416931\n"
     ]
    }
   ],
   "source": [
    "# pruning을 적용한 모델의 정확도 저장\n",
    "_, model_for_pruning_accuracy = model_for_pruning.evaluate(\n",
    "   test_images, test_labels, verbose=0)\n",
    "\n",
    "print('Baseline test accuracy:', baseline_model_accuracy) # 기준 정확도\n",
    "print('Pruned test accuracy:', model_for_pruning_accuracy) # pruning 후 정확도\n",
    "\n",
    "# 이 예에서는 기준선에 비해 가지치기 후 테스트 정확도에 손실이 거의 없다"
   ]
  },
  {
   "cell_type": "code",
   "execution_count": 7,
   "id": "numerical-series",
   "metadata": {},
   "outputs": [
    {
     "name": "stdout",
     "output_type": "stream",
     "text": [
      "Saved pruned Keras model to: /tmp/tmpfuo0joge.h5\n"
     ]
    }
   ],
   "source": [
    "###################################\n",
    "# 3. 가지치기로 적용 결과 확인    #\n",
    "###################################\n",
    "\n",
    "# 모델에서 가지치기 wrapper를 제거하는 API\n",
    "model_for_export = tfmot.sparsity.keras.strip_pruning(model_for_pruning)\n",
    "\n",
    "# 앞서 가지치기를 적용한 모델 저장\n",
    "_, pruned_keras_file = tempfile.mkstemp('.h5')\n",
    "tf.keras.models.save_model(model_for_export, pruned_keras_file, include_optimizer=False)\n",
    "print('Saved pruned Keras model to:', pruned_keras_file)"
   ]
  },
  {
   "cell_type": "code",
   "execution_count": 8,
   "id": "catholic-proposition",
   "metadata": {},
   "outputs": [],
   "source": [
    "# gzip을 통해 모델을 실제로 압축하고 압축된 크기를 측정\n",
    "# 모델의 크기(바이트)를 반환한다.\n",
    "def get_gzipped_model_size(file):\n",
    "  \n",
    "  import os\n",
    "  import zipfile\n",
    "\n",
    "  _, zipped_file = tempfile.mkstemp('.zip')\n",
    "  with zipfile.ZipFile(zipped_file, 'w', compression=zipfile.ZIP_DEFLATED) as f:\n",
    "    f.write(file)\n",
    "\n",
    "  return os.path.getsize(zipped_file)"
   ]
  },
  {
   "cell_type": "code",
   "execution_count": 9,
   "id": "acceptable-substitute",
   "metadata": {},
   "outputs": [
    {
     "name": "stdout",
     "output_type": "stream",
     "text": [
      "Size of gzipped baseline Keras model: 78042.00 bytes\n",
      "Size of gzipped pruned Keras model: 25593.00 bytes\n"
     ]
    }
   ],
   "source": [
    "print(\"Size of gzipped baseline Keras model: %.2f bytes\" % (get_gzipped_model_size(keras_file)))\n",
    "print(\"Size of gzipped pruned Keras model: %.2f bytes\" % (get_gzipped_model_size(pruned_keras_file)))"
   ]
  },
  {
   "cell_type": "code",
   "execution_count": null,
   "id": "digital-volleyball",
   "metadata": {},
   "outputs": [],
   "source": []
  }
 ],
 "metadata": {
  "kernelspec": {
   "display_name": "Python 3",
   "language": "python",
   "name": "python3"
  },
  "language_info": {
   "codemirror_mode": {
    "name": "ipython",
    "version": 3
   },
   "file_extension": ".py",
   "mimetype": "text/x-python",
   "name": "python",
   "nbconvert_exporter": "python",
   "pygments_lexer": "ipython3",
   "version": "3.6.9"
  }
 },
 "nbformat": 4,
 "nbformat_minor": 5
}
