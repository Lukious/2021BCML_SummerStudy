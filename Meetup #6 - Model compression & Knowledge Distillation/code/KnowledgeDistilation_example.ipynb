{
 "cells": [
  {
   "cell_type": "code",
   "execution_count": 14,
   "id": "trying-promise",
   "metadata": {},
   "outputs": [],
   "source": [
    "#MNIST 데이터를 사용한 knowledge distillation\n",
    "\n",
    "import tensorflow as tf\n",
    "from tensorflow import keras\n",
    "from tensorflow.keras import layers\n",
    "import numpy as np"
   ]
  },
  {
   "cell_type": "code",
   "execution_count": 15,
   "id": "designing-xerox",
   "metadata": {},
   "outputs": [],
   "source": [
    "# 사용자 정의 Distiller() 클래스\n",
    "# 이 클래스를 사용하여 teacher 모델의 지식을 student 모델로 넘겨준다.\n",
    "\n",
    "class Distiller(keras.Model):\n",
    "    \n",
    "    # 생성 인자로 student 모델과 teacher 모델\n",
    "    # teacher 모델은 사전 학습된 모델, student는 학습되지 않은 모델(layer 구조)\n",
    "    def __init__(self, student, teacher):\n",
    "        super(Distiller, self).__init__()\n",
    "        self.teacher = teacher\n",
    "        self.student = student\n",
    "\n",
    "    # compile 메서드 오버라이딩\n",
    "    def compile(\n",
    "        self,\n",
    "        optimizer, # student 가중치를 위한 keras optimizer\n",
    "        metrics, # 평가를 위한 keras metric\n",
    "        student_loss_fn, # student 모델의 예측값과 실제값 차이의 손실 함수\n",
    "        distillation_loss_fn, # studnet 모델의 soft 예측값과 teacher 모델의 soft 예측값 차이의 손실 함수\n",
    "        alpha=0.1, # studnet loss, distillation loss를 각각 alpha, 1-alpha로 계산\n",
    "        temperature=3, # 확률 분포를 soft 시키기 위함\n",
    "    ):\n",
    "        \"\"\" Configure the distiller.\n",
    "\n",
    "        Args:\n",
    "            optimizer: Keras optimizer for the student weights\n",
    "            metrics: Keras metrics for evaluation\n",
    "            student_loss_fn: Loss function of difference between student\n",
    "                predictions and ground-truth\n",
    "            distillation_loss_fn: Loss function of difference between soft\n",
    "                student predictions and soft teacher predictions\n",
    "            alpha: weight to student_loss_fn and 1-alpha to distillation_loss_fn\n",
    "            temperature: Temperature for softening probability distributions.\n",
    "                Larger temperature gives softer distributions.\n",
    "        \"\"\"\n",
    "        \n",
    "        \"\"\" 증류기 구성\n",
    "        \n",
    "            1) 옵티마이저 : 학생 가중치를위한 Keras 옵티마이저\n",
    "            2) 메트릭 : 평가를위한 Keras 메트릭\n",
    "            3) student_loss_fn : 학생차의 손실 함수(예측값과 실제값)\n",
    "            4) distillation_loss_fn : 연약한 차이의 손실 함수(소프트학생 예측 및 소프트교사 예측)\n",
    "            5) alpha : student_loss_fn 및 1-alpha to distillation_loss_fn에 대한 가중치\n",
    "            6) 온도 : 확률 분포를 연화시키기 위한 온도(더 큰 온도는 더 부드러운 분포를 제공)\n",
    "        \"\"\"\n",
    "        super(Distiller, self).compile(optimizer=optimizer, metrics=metrics)\n",
    "        self.student_loss_fn = student_loss_fn\n",
    "        self.distillation_loss_fn = distillation_loss_fn\n",
    "        self.alpha = alpha\n",
    "        self.temperature = temperature\n",
    "\n",
    "    def train_step(self, data):\n",
    "        # 데이터 언패킹\n",
    "        # data 객체로 합쳐져 있던 데이터를 x, y로 언패킹\n",
    "        x, y = data\n",
    "\n",
    "        # Teacher 모델 forward pass\n",
    "        teacher_predictions = self.teacher(x, training=False)\n",
    "\n",
    "        with tf.GradientTape() as tape:\n",
    "            # Student 모델 forward pass\n",
    "            student_predictions = self.student(x, training=True)\n",
    "\n",
    "            # studnet loss 계산\n",
    "            student_loss = self.student_loss_fn(y, student_predictions)\n",
    "            \n",
    "            # distillation loss 계산\n",
    "            # teacher 모델의 soft 예측값과 student 모델의 soft 예측값 차이의 손실 함수\n",
    "            distillation_loss = self.distillation_loss_fn(\n",
    "                tf.nn.softmax(teacher_predictions / self.temperature, axis=1),\n",
    "                tf.nn.softmax(student_predictions / self.temperature, axis=1),\n",
    "            )\n",
    "            # studnet loss, distillation loss를 각각 alpha, 1-alpha로 계산\n",
    "            loss = self.alpha * student_loss + (1 - self.alpha) * distillation_loss\n",
    "\n",
    "        # gradients 계산\n",
    "        trainable_vars = self.student.trainable_variables\n",
    "        gradients = tape.gradient(loss, trainable_vars)\n",
    "\n",
    "        # 가중치 업데이트\n",
    "        self.optimizer.apply_gradients(zip(gradients, trainable_vars))\n",
    "\n",
    "        # compile() 안에서 metric 업데이트\n",
    "        self.compiled_metrics.update_state(y, student_predictions)\n",
    "\n",
    "        # 성능 dictionary 리턴\n",
    "        # studnet_loss, distillation_loss 보여준다.\n",
    "        results = {m.name: m.result() for m in self.metrics}\n",
    "        results.update(\n",
    "            {\"student_loss\": student_loss, \"distillation_loss\": distillation_loss}\n",
    "        )\n",
    "        return results\n",
    "\n",
    "    def test_step(self, data):\n",
    "        # 데이터 언패킹\n",
    "        # data 객체로 합쳐져 있던 데이터를 x, y로 언패킹\n",
    "        x, y = data\n",
    "\n",
    "        # 예측 계산\n",
    "        y_prediction = self.student(x, training=False)\n",
    "\n",
    "        # loss 계산\n",
    "        student_loss = self.student_loss_fn(y, y_prediction)\n",
    "\n",
    "        # 메트릭 업데이트\n",
    "        self.compiled_metrics.update_state(y, y_prediction)\n",
    "\n",
    "        # 성능 dictionary 리턴\n",
    "        results = {m.name: m.result() for m in self.metrics}\n",
    "        results.update({\"student_loss\": student_loss})\n",
    "        return results"
   ]
  },
  {
   "cell_type": "code",
   "execution_count": 16,
   "id": "close-focus",
   "metadata": {},
   "outputs": [],
   "source": [
    "# 처음에는 교사 모델과 사전 훈련된 교사모델보단 작은 학생 모델을 만든다.\n",
    "\n",
    "# Teacher 모델 생성\n",
    "teacher = keras.Sequential(\n",
    "    [\n",
    "        keras.Input(shape=(28, 28, 1)),\n",
    "        layers.Conv2D(256, (3, 3), strides=(2, 2), padding=\"same\"),\n",
    "        layers.LeakyReLU(alpha=0.2),\n",
    "        layers.MaxPooling2D(pool_size=(2, 2), strides=(1, 1), padding=\"same\"),\n",
    "        layers.Conv2D(512, (3, 3), strides=(2, 2), padding=\"same\"),\n",
    "        layers.Flatten(),\n",
    "        layers.Dense(10),\n",
    "    ],\n",
    "    name=\"teacher\",\n",
    ")\n",
    "\n",
    "# Student 모델 생성\n",
    "student = keras.Sequential(\n",
    "    [\n",
    "        keras.Input(shape=(28, 28, 1)),\n",
    "        layers.Conv2D(16, (3, 3), strides=(2, 2), padding=\"same\"),\n",
    "        layers.LeakyReLU(alpha=0.2),\n",
    "        layers.MaxPooling2D(pool_size=(2, 2), strides=(1, 1), padding=\"same\"),\n",
    "        layers.Conv2D(32, (3, 3), strides=(2, 2), padding=\"same\"),\n",
    "        layers.Flatten(),\n",
    "        layers.Dense(10),\n",
    "    ],\n",
    "    name=\"student\",\n",
    ")\n",
    "\n",
    "# 비교를 위한 학생 모델 복제\n",
    "student_scratch = keras.models.clone_model(student)"
   ]
  },
  {
   "cell_type": "code",
   "execution_count": 17,
   "id": "sexual-ivory",
   "metadata": {},
   "outputs": [],
   "source": [
    "# 데이터셋 준비\n",
    "batch_size = 64\n",
    "(x_train, y_train), (x_test, y_test) = keras.datasets.mnist.load_data()\n",
    "\n",
    "# 데이터 정규화\n",
    "x_train = x_train.astype(\"float32\") / 255.0\n",
    "x_train = np.reshape(x_train, (-1, 28, 28, 1))\n",
    "\n",
    "x_test = x_test.astype(\"float32\") / 255.0\n",
    "x_test = np.reshape(x_test, (-1, 28, 28, 1))"
   ]
  },
  {
   "cell_type": "code",
   "execution_count": 18,
   "id": "stunning-irish",
   "metadata": {},
   "outputs": [
    {
     "name": "stdout",
     "output_type": "stream",
     "text": [
      "Epoch 1/5\n",
      "1875/1875 [==============================] - 47s 25ms/step - loss: 0.1438 - sparse_categorical_accuracy: 0.9562\n",
      "Epoch 2/5\n",
      "1875/1875 [==============================] - 47s 25ms/step - loss: 0.0922 - sparse_categorical_accuracy: 0.9727\n",
      "Epoch 3/5\n",
      "1875/1875 [==============================] - 47s 25ms/step - loss: 0.0817 - sparse_categorical_accuracy: 0.9767\n",
      "Epoch 4/5\n",
      "1875/1875 [==============================] - 47s 25ms/step - loss: 0.0745 - sparse_categorical_accuracy: 0.9780\n",
      "Epoch 5/5\n",
      "1875/1875 [==============================] - 47s 25ms/step - loss: 0.0676 - sparse_categorical_accuracy: 0.9812\n",
      "313/313 [==============================] - 1s 4ms/step - loss: 0.0850 - sparse_categorical_accuracy: 0.9783\n"
     ]
    },
    {
     "data": {
      "text/plain": [
       "[0.08497295528650284, 0.9782999753952026]"
      ]
     },
     "execution_count": 18,
     "metadata": {},
     "output_type": "execute_result"
    }
   ],
   "source": [
    "# teacher 모델 훈련\n",
    "# 지식 증류에서 훈련된 교사 모델이 필요하기 때문에 일반적인 방법으로 훈련한다.\n",
    "teacher.compile(\n",
    "    optimizer=keras.optimizers.Adam(),\n",
    "    loss=keras.losses.SparseCategoricalCrossentropy(from_logits=True),\n",
    "    metrics=[keras.metrics.SparseCategoricalAccuracy()],\n",
    ")\n",
    "\n",
    "# 데이터셋을 통해 교사의 트레인 및 평가\n",
    "teacher.fit(x_train, y_train, epochs=5)\n",
    "teacher.evaluate(x_test, y_test)"
   ]
  },
  {
   "cell_type": "code",
   "execution_count": 19,
   "id": "right-murray",
   "metadata": {},
   "outputs": [
    {
     "name": "stdout",
     "output_type": "stream",
     "text": [
      "Epoch 1/3\n",
      "1875/1875 [==============================] - 11s 6ms/step - sparse_categorical_accuracy: 0.9254 - student_loss: 0.3217 - distillation_loss: 0.0991\n",
      "Epoch 2/3\n",
      "1875/1875 [==============================] - 11s 6ms/step - sparse_categorical_accuracy: 0.9727 - student_loss: 0.1114 - distillation_loss: 0.0299\n",
      "Epoch 3/3\n",
      "1875/1875 [==============================] - 11s 6ms/step - sparse_categorical_accuracy: 0.9777 - student_loss: 0.0852 - distillation_loss: 0.0212\n",
      "313/313 [==============================] - 0s 1ms/step - sparse_categorical_accuracy: 0.9789 - student_loss: 0.0816\n"
     ]
    },
    {
     "data": {
      "text/plain": [
       "0.9789000153541565"
      ]
     },
     "execution_count": 19,
     "metadata": {},
     "output_type": "execute_result"
    }
   ],
   "source": [
    "# Distiller 초기화 및 컴파일\n",
    "distiller = Distiller(student=student, teacher=teacher)\n",
    "distiller.compile(\n",
    "    optimizer=keras.optimizers.Adam(),\n",
    "    metrics=[keras.metrics.SparseCategoricalAccuracy()],\n",
    "    student_loss_fn=keras.losses.SparseCategoricalCrossentropy(from_logits=True),\n",
    "    distillation_loss_fn=keras.losses.KLDivergence(),\n",
    "    alpha=0.1,\n",
    "    temperature=10,\n",
    ")\n",
    "\n",
    "# Distill teacher to student\n",
    "distiller.fit(x_train, y_train, epochs=3)\n",
    "\n",
    "# 테스트 데이터로 학생 모델 평가\n",
    "distiller.evaluate(x_test, y_test)"
   ]
  },
  {
   "cell_type": "code",
   "execution_count": 24,
   "id": "through-central",
   "metadata": {},
   "outputs": [
    {
     "name": "stdout",
     "output_type": "stream",
     "text": [
      "Epoch 1/3\n",
      "1875/1875 [==============================] - 3s 2ms/step - loss: 0.3677 - sparse_categorical_accuracy: 0.8975\n",
      "Epoch 2/3\n",
      "1875/1875 [==============================] - 3s 2ms/step - loss: 0.2912 - sparse_categorical_accuracy: 0.9181\n",
      "Epoch 3/3\n",
      "1875/1875 [==============================] - 3s 2ms/step - loss: 0.2800 - sparse_categorical_accuracy: 0.9212\n",
      "313/313 [==============================] - 0s 683us/step - loss: 0.2764 - sparse_categorical_accuracy: 0.9225\n"
     ]
    },
    {
     "data": {
      "text/plain": [
       "[0.27641168236732483, 0.9225000143051147]"
      ]
     },
     "execution_count": 24,
     "metadata": {},
     "output_type": "execute_result"
    }
   ],
   "source": [
    "# 교사 모델을 증류받은 학생 모델과 비교를 위해\n",
    "# 증류받지 않은 학생 모델을 일반적인 방법으로 학습\n",
    "\n",
    "student_scratch.compile(\n",
    "    optimizer=keras.optimizers.Adam(),\n",
    "    loss=keras.losses.SparseCategoricalCrossentropy(from_logits=True),\n",
    "    metrics=[keras.metrics.SparseCategoricalAccuracy()],\n",
    ")\n",
    "\n",
    "student_scratch.fit(x_train, y_train, epochs=3)\n",
    "student_scratch.evaluate(x_test, y_test)"
   ]
  },
  {
   "cell_type": "code",
   "execution_count": null,
   "id": "planned-bread",
   "metadata": {},
   "outputs": [],
   "source": []
  }
 ],
 "metadata": {
  "kernelspec": {
   "display_name": "Python 3",
   "language": "python",
   "name": "python3"
  },
  "language_info": {
   "codemirror_mode": {
    "name": "ipython",
    "version": 3
   },
   "file_extension": ".py",
   "mimetype": "text/x-python",
   "name": "python",
   "nbconvert_exporter": "python",
   "pygments_lexer": "ipython3",
   "version": "3.6.9"
  }
 },
 "nbformat": 4,
 "nbformat_minor": 5
}
